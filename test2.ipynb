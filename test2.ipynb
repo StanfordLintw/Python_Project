{
 "cells": [
  {
   "cell_type": "code",
   "execution_count": 8,
   "metadata": {},
   "outputs": [
    {
     "output_type": "stream",
     "name": "stdout",
     "text": "下載成功\n40960\n40960\n40960\n22181\n以 out3_14.txt 儲存網頁HTML檔案成功\n"
    }
   ],
   "source": [
    "import webbrowser\n",
    "import requests\n",
    "\n",
    "headers = {'Referer':'https://accounts.pixiv.net/loginlang=zh&source=pc&view_type=page&ref=wwwtop_accounts_index',#如某些網站（如ptt站）要檢查referer，就給他加上\n",
    "'User-Agent': 'Mozilla/5.0 (Windows NT 10.0; Win64; x64) AppleWebKit/537.36 (KHTML, like Gecko) Chrome/81.0.4044.138 Safari/537.36'#每個爬蟲必備的偽裝\n",
    "}\n",
    "\n",
    "url = \"https://www.liontravel.com/category/zh-tw/idx\"\n",
    "try:\n",
    "    htmlfile = requests.get(url,headers=headers)\n",
    "    print(\"下載成功\")\n",
    "except Exception as err:\n",
    "    print(\"網頁下載失敗: %s\" % err)\n",
    "\n",
    "#儲存網頁內容\n",
    "fn = 'out3_14.txt'\n",
    "with open(fn,'wb') as file_Obj:\n",
    "    for diskStorage in htmlfile.iter_content(40960):\n",
    "        size = file_Obj.write(diskStorage)\n",
    "        print(size)\n",
    "    print(\"以 %s 儲存網頁HTML檔案成功\" % fn)\n",
    "\n",
    "# htmlfile.raise_for_status()\n",
    "\n",
    "# webbrowser.open('https://www.liontravel.com/category/zh-tw/idx')"
   ]
  },
  {
   "cell_type": "code",
   "execution_count": 9,
   "metadata": {},
   "outputs": [
    {
     "output_type": "stream",
     "name": "stdout",
     "text": "下載成功\n40960\n40960\n40960\n40960\n40960\n40960\n40960\n40960\n26743\n以 twchopcom.txt 儲存網頁HTML檔案成功\n"
    }
   ],
   "source": [
    "import webbrowser\n",
    "import requests\n",
    "\n",
    "headers = {'Referer':'https://accounts.pixiv.net/loginlang=zh&source=pc&view_type=page&ref=wwwtop_accounts_index',#如某些網站（如ptt站）要檢查referer，就給他加上\n",
    "'User-Agent': 'Mozilla/5.0 (Windows NT 10.0; Win64; x64) AppleWebKit/537.36 (KHTML, like Gecko) Chrome/81.0.4044.138 Safari/537.36'#每個爬蟲必備的偽裝\n",
    "}\n",
    "\n",
    "url = \"https://tw.shop.com/HOUSEDOMO/?credituser=C1926543554\"\n",
    "try:\n",
    "    htmlfile = requests.get(url,headers=headers)\n",
    "    print(\"下載成功\")\n",
    "except Exception as err:\n",
    "    print(\"網頁下載失敗: %s\" % err)\n",
    "\n",
    "#儲存網頁內容\n",
    "fn = 'twchopcom.txt'\n",
    "with open(fn,'wb') as file_Obj:\n",
    "    for diskStorage in htmlfile.iter_content(40960):\n",
    "        size = file_Obj.write(diskStorage)\n",
    "        print(size)\n",
    "    print(\"以 %s 儲存網頁HTML檔案成功\" % fn)\n",
    "\n",
    "# htmlfile.raise_for_status()\n",
    "\n",
    "# webbrowser.open('https://www.liontravel.com/category/zh-tw/idx')"
   ]
  },
  {
   "cell_type": "code",
   "execution_count": 18,
   "metadata": {},
   "outputs": [
    {
     "output_type": "stream",
     "name": "stdout",
     "text": "https://www.httpbin.org/get?gender=M&page=1\n"
    }
   ],
   "source": [
    "import requests\n",
    "\n",
    "url = 'https://www.httpbin.org/get'\n",
    "form_data = {'gender':'M','page':'1'}\n",
    "\n",
    "r = requests.get(url,params=form_data)\n",
    "print(r.url)"
   ]
  },
  {
   "cell_type": "code",
   "execution_count": 1,
   "metadata": {},
   "outputs": [
    {
     "output_type": "stream",
     "name": "stdout",
     "text": "200\nOK\n"
    }
   ],
   "source": [
    "import requests\n",
    "\n",
    "url = 'https://www.httpbin.org/get'\n",
    "r = requests.get(url)\n",
    "print(r.status_code)\n",
    "print(r.reason)\n",
    "print(r.encoding)\n",
    "print('_'*70)\n",
    "print(r.text)\n",
    "\n"
   ]
  },
  {
   "cell_type": "code",
   "execution_count": null,
   "metadata": {},
   "outputs": [],
   "source": [
    "import requests, json\n",
    "\n",
    "headers = {'Referer':'https://accounts.pixiv.net/loginlang=zh&source=pc&view_type=page&ref=wwwtop_accounts_index',#如某些網站（如ptt站）要檢查referer，就給他加上\n",
    "'User-Agent': 'Mozilla/5.0 (Windows NT 10.0; Win64; x64) AppleWebKit/537.36 (KHTML, like Gecko) Chrome/81.0.4044.138 Safari/537.36'#每個爬蟲必備的偽裝\n",
    "}\n",
    "\n",
    "url = 'https://www.httpbin.org/post'\n",
    "form_data = {'gender':'M','page':'1'}\n",
    "\n",
    "r = requests.post(url,json=form_data,headers=headers)\n",
    "# r = requests.post(url,data=json.dumps(form_data))\n",
    "print(r.url)\n",
    "print('_'*70)\n",
    "print('r.request.headers :\\n',r.request.headers) #列出請求的表頭內容\n",
    "print('_'*70)\n",
    "print('r.headers :\\n',r.headers)                 #伺服器回傳的表頭內容\n",
    "# print(r.text)"
   ]
  },
  {
   "cell_type": "code",
   "execution_count": null,
   "metadata": {},
   "outputs": [],
   "source": []
  }
 ],
 "metadata": {
  "language_info": {
   "codemirror_mode": {
    "name": "ipython",
    "version": 3
   },
   "file_extension": ".py",
   "mimetype": "text/x-python",
   "name": "python",
   "nbconvert_exporter": "python",
   "pygments_lexer": "ipython3",
   "version": "3.6.6-final"
  },
  "orig_nbformat": 2,
  "kernelspec": {
   "name": "python36664bit80fe5d842c61481e90dccb14b1daf638",
   "display_name": "Python 3.6.6 64-bit"
  }
 },
 "nbformat": 4,
 "nbformat_minor": 2
}